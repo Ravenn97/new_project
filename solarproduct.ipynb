{
  "nbformat": 4,
  "nbformat_minor": 0,
  "metadata": {
    "colab": {
      "name": "solarproduct.ipynb",
      "version": "0.3.2",
      "provenance": [],
      "collapsed_sections": [],
      "toc_visible": true,
      "include_colab_link": true
    },
    "kernelspec": {
      "name": "python3",
      "display_name": "Python 3"
    }
  },
  "cells": [
    {
      "cell_type": "markdown",
      "metadata": {
        "id": "view-in-github",
        "colab_type": "text"
      },
      "source": [
        "<a href=\"https://colab.research.google.com/github/Ravenn97/new_project/blob/master/solarproduct.ipynb\" target=\"_parent\"><img src=\"https://colab.research.google.com/assets/colab-badge.svg\" alt=\"Open In Colab\"/></a>"
      ]
    },
    {
      "metadata": {
        "id": "G61CRv2YQ4T5",
        "colab_type": "code",
        "outputId": "3462e269-dc83-49ce-e139-e7e1cbc16d06",
        "colab": {
          "base_uri": "https://localhost:8080/",
          "height": 54
        }
      },
      "cell_type": "code",
      "source": [
        "import numpy as np\n",
        "from sklearn import preprocessing\n",
        "import pandas as pd\n",
        "!pip3 install xlrd\n",
        "!pip3 install seaborn\n",
        "import matplotlib.pyplot as plt\n",
        "import re\n",
        "import seaborn as sns\n",
        "from scipy import stats\n",
        "from scipy.stats import skew,norm\n",
        "from scipy.stats.stats import pearsonr\n"
      ],
      "execution_count": 1,
      "outputs": [
        {
          "output_type": "stream",
          "text": [
            "Requirement already satisfied: xlrd in /usr/local/lib/python3.6/dist-packages (1.1.0)\n",
            "Requirement already satisfied: seaborn in /usr/local/lib/python3.6/dist-packages (0.7.1)\n"
          ],
          "name": "stdout"
        }
      ]
    },
    {
      "metadata": {
        "id": "lGEXoNR-Q4T-",
        "colab_type": "code",
        "colab": {}
      },
      "cell_type": "code",
      "source": [
        "data = pd.read_excel(\"PV.xlsx\")"
      ],
      "execution_count": 0,
      "outputs": []
    },
    {
      "metadata": {
        "id": "N85dHLbiQ4UB",
        "colab_type": "code",
        "outputId": "c44ce8a1-0cc2-4e0e-bb82-e97ac6ae588a",
        "colab": {
          "base_uri": "https://localhost:8080/",
          "height": 198
        }
      },
      "cell_type": "code",
      "source": [
        "data.head()"
      ],
      "execution_count": 3,
      "outputs": [
        {
          "output_type": "execute_result",
          "data": {
            "text/html": [
              "<div>\n",
              "<style scoped>\n",
              "    .dataframe tbody tr th:only-of-type {\n",
              "        vertical-align: middle;\n",
              "    }\n",
              "\n",
              "    .dataframe tbody tr th {\n",
              "        vertical-align: top;\n",
              "    }\n",
              "\n",
              "    .dataframe thead th {\n",
              "        text-align: right;\n",
              "    }\n",
              "</style>\n",
              "<table border=\"1\" class=\"dataframe\">\n",
              "  <thead>\n",
              "    <tr style=\"text-align: right;\">\n",
              "      <th></th>\n",
              "      <th>Time</th>\n",
              "      <th>Irradiation[kW/m2]</th>\n",
              "      <th>Temperture[℃]</th>\n",
              "      <th>PV Generation[kW]</th>\n",
              "    </tr>\n",
              "  </thead>\n",
              "  <tbody>\n",
              "    <tr>\n",
              "      <th>0</th>\n",
              "      <td>2015-01-01 00:00:00</td>\n",
              "      <td>0.0</td>\n",
              "      <td>2.76</td>\n",
              "      <td>0.0</td>\n",
              "    </tr>\n",
              "    <tr>\n",
              "      <th>1</th>\n",
              "      <td>2015-01-01 00:01:00</td>\n",
              "      <td>0.0</td>\n",
              "      <td>2.78</td>\n",
              "      <td>0.0</td>\n",
              "    </tr>\n",
              "    <tr>\n",
              "      <th>2</th>\n",
              "      <td>2015-01-01 00:02:00</td>\n",
              "      <td>0.0</td>\n",
              "      <td>2.81</td>\n",
              "      <td>0.0</td>\n",
              "    </tr>\n",
              "    <tr>\n",
              "      <th>3</th>\n",
              "      <td>2015-01-01 00:03:00</td>\n",
              "      <td>0.0</td>\n",
              "      <td>2.86</td>\n",
              "      <td>0.0</td>\n",
              "    </tr>\n",
              "    <tr>\n",
              "      <th>4</th>\n",
              "      <td>2015-01-01 00:04:00</td>\n",
              "      <td>0.0</td>\n",
              "      <td>2.91</td>\n",
              "      <td>0.0</td>\n",
              "    </tr>\n",
              "  </tbody>\n",
              "</table>\n",
              "</div>"
            ],
            "text/plain": [
              "                 Time  Irradiation[kW/m2]  Temperture[℃]  PV Generation[kW]\n",
              "0 2015-01-01 00:00:00                 0.0           2.76                0.0\n",
              "1 2015-01-01 00:01:00                 0.0           2.78                0.0\n",
              "2 2015-01-01 00:02:00                 0.0           2.81                0.0\n",
              "3 2015-01-01 00:03:00                 0.0           2.86                0.0\n",
              "4 2015-01-01 00:04:00                 0.0           2.91                0.0"
            ]
          },
          "metadata": {
            "tags": []
          },
          "execution_count": 3
        }
      ]
    },
    {
      "metadata": {
        "id": "RZzKcYirQ4UH",
        "colab_type": "code",
        "outputId": "709e8d6a-ab3d-44c5-c66b-5d9856e80747",
        "colab": {
          "base_uri": "https://localhost:8080/",
          "height": 35
        }
      },
      "cell_type": "code",
      "source": [
        "\n",
        "len(data)"
      ],
      "execution_count": 4,
      "outputs": [
        {
          "output_type": "execute_result",
          "data": {
            "text/plain": [
              "525600"
            ]
          },
          "metadata": {
            "tags": []
          },
          "execution_count": 4
        }
      ]
    },
    {
      "metadata": {
        "id": "SkjSTRxFiDCR",
        "colab_type": "text"
      },
      "cell_type": "markdown",
      "source": [
        "## Rename of feature"
      ]
    },
    {
      "metadata": {
        "id": "VF8UU02GQ4UK",
        "colab_type": "code",
        "colab": {}
      },
      "cell_type": "code",
      "source": [
        "data_copy = data.copy()"
      ],
      "execution_count": 0,
      "outputs": []
    },
    {
      "metadata": {
        "id": "PY1bWpkRQ4UO",
        "colab_type": "code",
        "outputId": "54f3e317-efdd-427f-eed4-ed571a5525c1",
        "colab": {
          "base_uri": "https://localhost:8080/",
          "height": 198
        }
      },
      "cell_type": "code",
      "source": [
        "features = [\"time\", \"irr\", \"temp\", \"generation\"]\n",
        "data_copy.columns = features\n",
        "data_copy.head()"
      ],
      "execution_count": 6,
      "outputs": [
        {
          "output_type": "execute_result",
          "data": {
            "text/html": [
              "<div>\n",
              "<style scoped>\n",
              "    .dataframe tbody tr th:only-of-type {\n",
              "        vertical-align: middle;\n",
              "    }\n",
              "\n",
              "    .dataframe tbody tr th {\n",
              "        vertical-align: top;\n",
              "    }\n",
              "\n",
              "    .dataframe thead th {\n",
              "        text-align: right;\n",
              "    }\n",
              "</style>\n",
              "<table border=\"1\" class=\"dataframe\">\n",
              "  <thead>\n",
              "    <tr style=\"text-align: right;\">\n",
              "      <th></th>\n",
              "      <th>time</th>\n",
              "      <th>irr</th>\n",
              "      <th>temp</th>\n",
              "      <th>generation</th>\n",
              "    </tr>\n",
              "  </thead>\n",
              "  <tbody>\n",
              "    <tr>\n",
              "      <th>0</th>\n",
              "      <td>2015-01-01 00:00:00</td>\n",
              "      <td>0.0</td>\n",
              "      <td>2.76</td>\n",
              "      <td>0.0</td>\n",
              "    </tr>\n",
              "    <tr>\n",
              "      <th>1</th>\n",
              "      <td>2015-01-01 00:01:00</td>\n",
              "      <td>0.0</td>\n",
              "      <td>2.78</td>\n",
              "      <td>0.0</td>\n",
              "    </tr>\n",
              "    <tr>\n",
              "      <th>2</th>\n",
              "      <td>2015-01-01 00:02:00</td>\n",
              "      <td>0.0</td>\n",
              "      <td>2.81</td>\n",
              "      <td>0.0</td>\n",
              "    </tr>\n",
              "    <tr>\n",
              "      <th>3</th>\n",
              "      <td>2015-01-01 00:03:00</td>\n",
              "      <td>0.0</td>\n",
              "      <td>2.86</td>\n",
              "      <td>0.0</td>\n",
              "    </tr>\n",
              "    <tr>\n",
              "      <th>4</th>\n",
              "      <td>2015-01-01 00:04:00</td>\n",
              "      <td>0.0</td>\n",
              "      <td>2.91</td>\n",
              "      <td>0.0</td>\n",
              "    </tr>\n",
              "  </tbody>\n",
              "</table>\n",
              "</div>"
            ],
            "text/plain": [
              "                 time  irr  temp  generation\n",
              "0 2015-01-01 00:00:00  0.0  2.76         0.0\n",
              "1 2015-01-01 00:01:00  0.0  2.78         0.0\n",
              "2 2015-01-01 00:02:00  0.0  2.81         0.0\n",
              "3 2015-01-01 00:03:00  0.0  2.86         0.0\n",
              "4 2015-01-01 00:04:00  0.0  2.91         0.0"
            ]
          },
          "metadata": {
            "tags": []
          },
          "execution_count": 6
        }
      ]
    },
    {
      "metadata": {
        "id": "9N1VIIULQ4Ua",
        "colab_type": "text"
      },
      "cell_type": "markdown",
      "source": [
        "## Pre-process data"
      ]
    },
    {
      "metadata": {
        "id": "GTYYweFtjxD6",
        "colab_type": "text"
      },
      "cell_type": "markdown",
      "source": [
        "### Remove outlier "
      ]
    },
    {
      "metadata": {
        "id": "QG29qOEXj2xe",
        "colab_type": "code",
        "colab": {}
      },
      "cell_type": "code",
      "source": [
        "#remove all of row which 'irr' feature or 'generation' = '0'\n",
        "data_copy = data_copy[data_copy[\"irr\"] != 0]\n",
        "data_copy = data_copy[data_copy[\"generation\"] != 0]\n"
      ],
      "execution_count": 0,
      "outputs": []
    },
    {
      "metadata": {
        "id": "oRVkMLCSkieL",
        "colab_type": "code",
        "outputId": "7b323d99-3d7d-490c-ae29-2008c4f93b65",
        "colab": {
          "base_uri": "https://localhost:8080/",
          "height": 198
        }
      },
      "cell_type": "code",
      "source": [
        "data_copy.head()"
      ],
      "execution_count": 8,
      "outputs": [
        {
          "output_type": "execute_result",
          "data": {
            "text/html": [
              "<div>\n",
              "<style scoped>\n",
              "    .dataframe tbody tr th:only-of-type {\n",
              "        vertical-align: middle;\n",
              "    }\n",
              "\n",
              "    .dataframe tbody tr th {\n",
              "        vertical-align: top;\n",
              "    }\n",
              "\n",
              "    .dataframe thead th {\n",
              "        text-align: right;\n",
              "    }\n",
              "</style>\n",
              "<table border=\"1\" class=\"dataframe\">\n",
              "  <thead>\n",
              "    <tr style=\"text-align: right;\">\n",
              "      <th></th>\n",
              "      <th>time</th>\n",
              "      <th>irr</th>\n",
              "      <th>temp</th>\n",
              "      <th>generation</th>\n",
              "    </tr>\n",
              "  </thead>\n",
              "  <tbody>\n",
              "    <tr>\n",
              "      <th>420</th>\n",
              "      <td>2015-01-01 07:00:00</td>\n",
              "      <td>0.01</td>\n",
              "      <td>-2.52</td>\n",
              "      <td>7.61</td>\n",
              "    </tr>\n",
              "    <tr>\n",
              "      <th>421</th>\n",
              "      <td>2015-01-01 07:01:00</td>\n",
              "      <td>0.01</td>\n",
              "      <td>-2.52</td>\n",
              "      <td>8.73</td>\n",
              "    </tr>\n",
              "    <tr>\n",
              "      <th>422</th>\n",
              "      <td>2015-01-01 07:02:00</td>\n",
              "      <td>0.01</td>\n",
              "      <td>-2.52</td>\n",
              "      <td>9.63</td>\n",
              "    </tr>\n",
              "    <tr>\n",
              "      <th>423</th>\n",
              "      <td>2015-01-01 07:03:00</td>\n",
              "      <td>0.01</td>\n",
              "      <td>-2.53</td>\n",
              "      <td>10.59</td>\n",
              "    </tr>\n",
              "    <tr>\n",
              "      <th>424</th>\n",
              "      <td>2015-01-01 07:04:00</td>\n",
              "      <td>0.01</td>\n",
              "      <td>-2.53</td>\n",
              "      <td>11.75</td>\n",
              "    </tr>\n",
              "  </tbody>\n",
              "</table>\n",
              "</div>"
            ],
            "text/plain": [
              "                   time   irr  temp  generation\n",
              "420 2015-01-01 07:00:00  0.01 -2.52        7.61\n",
              "421 2015-01-01 07:01:00  0.01 -2.52        8.73\n",
              "422 2015-01-01 07:02:00  0.01 -2.52        9.63\n",
              "423 2015-01-01 07:03:00  0.01 -2.53       10.59\n",
              "424 2015-01-01 07:04:00  0.01 -2.53       11.75"
            ]
          },
          "metadata": {
            "tags": []
          },
          "execution_count": 8
        }
      ]
    },
    {
      "metadata": {
        "id": "t5TGY2IVkuG_",
        "colab_type": "text"
      },
      "cell_type": "markdown",
      "source": [
        "### Trans the datetime() type to float() type and drop \"year\" feature"
      ]
    },
    {
      "metadata": {
        "id": "-JTbr8VMQ4Ua",
        "colab_type": "code",
        "colab": {}
      },
      "cell_type": "code",
      "source": [
        "#this function will generated 'year', 'moth', 'day','hour', 'minute' and remove 'time' feature\n",
        "def add_datepart(df, fldname, drop=True, time=False):\n",
        "    fld = df[fldname]\n",
        "    fld_dtype = fld.dtype\n",
        "    if isinstance(fld_dtype, pd.core.dtypes.dtypes.DatetimeTZDtype):\n",
        "        fld_dtype = np.datetime64\n",
        "\n",
        "    if not np.issubdtype(fld_dtype, np.datetime64):\n",
        "        df[fldname] = fld = pd.to_datetime(fld, infer_datetime_format=True)\n",
        "    targ_pre = re.sub('[Tt]ime$', '', fldname)\n",
        "    attr = ['year', 'month', 'week', 'day']\n",
        "    if time: attr = attr + ['hour', 'minute', 'second']\n",
        "    for n in attr: \n",
        "        df[targ_pre + n] = getattr(fld.dt, n.lower())\n",
        "    if drop: \n",
        "        df.drop(fldname, axis=1, inplace=True)"
      ],
      "execution_count": 0,
      "outputs": []
    },
    {
      "metadata": {
        "id": "Iiw-oYVIQ4Ue",
        "colab_type": "code",
        "colab": {}
      },
      "cell_type": "code",
      "source": [
        "add_datepart(data_copy, 'time',drop=True, time=True)\n"
      ],
      "execution_count": 0,
      "outputs": []
    },
    {
      "metadata": {
        "id": "D0-7KjwqoJiY",
        "colab_type": "code",
        "colab": {}
      },
      "cell_type": "code",
      "source": [
        "data_copy = data_copy.drop('year', axis = 1) #drop 'year' feature"
      ],
      "execution_count": 0,
      "outputs": []
    },
    {
      "metadata": {
        "id": "m2ATiwbyQ4Ui",
        "colab_type": "code",
        "outputId": "858dcefd-7ff3-4692-9165-8c93bc66401b",
        "colab": {
          "base_uri": "https://localhost:8080/",
          "height": 198
        }
      },
      "cell_type": "code",
      "source": [
        "data_copy.head()"
      ],
      "execution_count": 12,
      "outputs": [
        {
          "output_type": "execute_result",
          "data": {
            "text/html": [
              "<div>\n",
              "<style scoped>\n",
              "    .dataframe tbody tr th:only-of-type {\n",
              "        vertical-align: middle;\n",
              "    }\n",
              "\n",
              "    .dataframe tbody tr th {\n",
              "        vertical-align: top;\n",
              "    }\n",
              "\n",
              "    .dataframe thead th {\n",
              "        text-align: right;\n",
              "    }\n",
              "</style>\n",
              "<table border=\"1\" class=\"dataframe\">\n",
              "  <thead>\n",
              "    <tr style=\"text-align: right;\">\n",
              "      <th></th>\n",
              "      <th>irr</th>\n",
              "      <th>temp</th>\n",
              "      <th>generation</th>\n",
              "      <th>month</th>\n",
              "      <th>week</th>\n",
              "      <th>day</th>\n",
              "      <th>hour</th>\n",
              "      <th>minute</th>\n",
              "      <th>second</th>\n",
              "    </tr>\n",
              "  </thead>\n",
              "  <tbody>\n",
              "    <tr>\n",
              "      <th>420</th>\n",
              "      <td>0.01</td>\n",
              "      <td>-2.52</td>\n",
              "      <td>7.61</td>\n",
              "      <td>1</td>\n",
              "      <td>1</td>\n",
              "      <td>1</td>\n",
              "      <td>7</td>\n",
              "      <td>0</td>\n",
              "      <td>0</td>\n",
              "    </tr>\n",
              "    <tr>\n",
              "      <th>421</th>\n",
              "      <td>0.01</td>\n",
              "      <td>-2.52</td>\n",
              "      <td>8.73</td>\n",
              "      <td>1</td>\n",
              "      <td>1</td>\n",
              "      <td>1</td>\n",
              "      <td>7</td>\n",
              "      <td>1</td>\n",
              "      <td>0</td>\n",
              "    </tr>\n",
              "    <tr>\n",
              "      <th>422</th>\n",
              "      <td>0.01</td>\n",
              "      <td>-2.52</td>\n",
              "      <td>9.63</td>\n",
              "      <td>1</td>\n",
              "      <td>1</td>\n",
              "      <td>1</td>\n",
              "      <td>7</td>\n",
              "      <td>2</td>\n",
              "      <td>0</td>\n",
              "    </tr>\n",
              "    <tr>\n",
              "      <th>423</th>\n",
              "      <td>0.01</td>\n",
              "      <td>-2.53</td>\n",
              "      <td>10.59</td>\n",
              "      <td>1</td>\n",
              "      <td>1</td>\n",
              "      <td>1</td>\n",
              "      <td>7</td>\n",
              "      <td>3</td>\n",
              "      <td>0</td>\n",
              "    </tr>\n",
              "    <tr>\n",
              "      <th>424</th>\n",
              "      <td>0.01</td>\n",
              "      <td>-2.53</td>\n",
              "      <td>11.75</td>\n",
              "      <td>1</td>\n",
              "      <td>1</td>\n",
              "      <td>1</td>\n",
              "      <td>7</td>\n",
              "      <td>4</td>\n",
              "      <td>0</td>\n",
              "    </tr>\n",
              "  </tbody>\n",
              "</table>\n",
              "</div>"
            ],
            "text/plain": [
              "      irr  temp  generation  month  week  day  hour  minute  second\n",
              "420  0.01 -2.52        7.61      1     1    1     7       0       0\n",
              "421  0.01 -2.52        8.73      1     1    1     7       1       0\n",
              "422  0.01 -2.52        9.63      1     1    1     7       2       0\n",
              "423  0.01 -2.53       10.59      1     1    1     7       3       0\n",
              "424  0.01 -2.53       11.75      1     1    1     7       4       0"
            ]
          },
          "metadata": {
            "tags": []
          },
          "execution_count": 12
        }
      ]
    },
    {
      "metadata": {
        "id": "GS9ARbA9Q4Uq",
        "colab_type": "code",
        "outputId": "acf5120a-0d51-49ab-a5b8-e455fd5e0380",
        "colab": {
          "base_uri": "https://localhost:8080/",
          "height": 272
        }
      },
      "cell_type": "code",
      "source": [
        "data_copy.info()"
      ],
      "execution_count": 13,
      "outputs": [
        {
          "output_type": "stream",
          "text": [
            "<class 'pandas.core.frame.DataFrame'>\n",
            "Int64Index: 253344 entries, 420 to 525135\n",
            "Data columns (total 9 columns):\n",
            "irr           253328 non-null float64\n",
            "temp          253328 non-null float64\n",
            "generation    252526 non-null float64\n",
            "month         253344 non-null int64\n",
            "week          253344 non-null int64\n",
            "day           253344 non-null int64\n",
            "hour          253344 non-null int64\n",
            "minute        253344 non-null int64\n",
            "second        253344 non-null int64\n",
            "dtypes: float64(3), int64(6)\n",
            "memory usage: 19.3 MB\n"
          ],
          "name": "stdout"
        }
      ]
    },
    {
      "metadata": {
        "id": "4XBnIzVEQ4Ut",
        "colab_type": "text"
      },
      "cell_type": "markdown",
      "source": [
        "### Fix missing value by remove column"
      ]
    },
    {
      "metadata": {
        "id": "X3GJS62pQ4Ut",
        "colab_type": "code",
        "outputId": "92453cfc-3953-4ae5-e4f1-799118bf9c62",
        "colab": {
          "base_uri": "https://localhost:8080/",
          "height": 453
        }
      },
      "cell_type": "code",
      "source": [
        "data_copy= data_copy.dropna(axis=0)\n",
        "data_copy.info()\n",
        "data_copy.head()"
      ],
      "execution_count": 14,
      "outputs": [
        {
          "output_type": "stream",
          "text": [
            "<class 'pandas.core.frame.DataFrame'>\n",
            "Int64Index: 252510 entries, 420 to 525135\n",
            "Data columns (total 9 columns):\n",
            "irr           252510 non-null float64\n",
            "temp          252510 non-null float64\n",
            "generation    252510 non-null float64\n",
            "month         252510 non-null int64\n",
            "week          252510 non-null int64\n",
            "day           252510 non-null int64\n",
            "hour          252510 non-null int64\n",
            "minute        252510 non-null int64\n",
            "second        252510 non-null int64\n",
            "dtypes: float64(3), int64(6)\n",
            "memory usage: 19.3 MB\n"
          ],
          "name": "stdout"
        },
        {
          "output_type": "execute_result",
          "data": {
            "text/html": [
              "<div>\n",
              "<style scoped>\n",
              "    .dataframe tbody tr th:only-of-type {\n",
              "        vertical-align: middle;\n",
              "    }\n",
              "\n",
              "    .dataframe tbody tr th {\n",
              "        vertical-align: top;\n",
              "    }\n",
              "\n",
              "    .dataframe thead th {\n",
              "        text-align: right;\n",
              "    }\n",
              "</style>\n",
              "<table border=\"1\" class=\"dataframe\">\n",
              "  <thead>\n",
              "    <tr style=\"text-align: right;\">\n",
              "      <th></th>\n",
              "      <th>irr</th>\n",
              "      <th>temp</th>\n",
              "      <th>generation</th>\n",
              "      <th>month</th>\n",
              "      <th>week</th>\n",
              "      <th>day</th>\n",
              "      <th>hour</th>\n",
              "      <th>minute</th>\n",
              "      <th>second</th>\n",
              "    </tr>\n",
              "  </thead>\n",
              "  <tbody>\n",
              "    <tr>\n",
              "      <th>420</th>\n",
              "      <td>0.01</td>\n",
              "      <td>-2.52</td>\n",
              "      <td>7.61</td>\n",
              "      <td>1</td>\n",
              "      <td>1</td>\n",
              "      <td>1</td>\n",
              "      <td>7</td>\n",
              "      <td>0</td>\n",
              "      <td>0</td>\n",
              "    </tr>\n",
              "    <tr>\n",
              "      <th>421</th>\n",
              "      <td>0.01</td>\n",
              "      <td>-2.52</td>\n",
              "      <td>8.73</td>\n",
              "      <td>1</td>\n",
              "      <td>1</td>\n",
              "      <td>1</td>\n",
              "      <td>7</td>\n",
              "      <td>1</td>\n",
              "      <td>0</td>\n",
              "    </tr>\n",
              "    <tr>\n",
              "      <th>422</th>\n",
              "      <td>0.01</td>\n",
              "      <td>-2.52</td>\n",
              "      <td>9.63</td>\n",
              "      <td>1</td>\n",
              "      <td>1</td>\n",
              "      <td>1</td>\n",
              "      <td>7</td>\n",
              "      <td>2</td>\n",
              "      <td>0</td>\n",
              "    </tr>\n",
              "    <tr>\n",
              "      <th>423</th>\n",
              "      <td>0.01</td>\n",
              "      <td>-2.53</td>\n",
              "      <td>10.59</td>\n",
              "      <td>1</td>\n",
              "      <td>1</td>\n",
              "      <td>1</td>\n",
              "      <td>7</td>\n",
              "      <td>3</td>\n",
              "      <td>0</td>\n",
              "    </tr>\n",
              "    <tr>\n",
              "      <th>424</th>\n",
              "      <td>0.01</td>\n",
              "      <td>-2.53</td>\n",
              "      <td>11.75</td>\n",
              "      <td>1</td>\n",
              "      <td>1</td>\n",
              "      <td>1</td>\n",
              "      <td>7</td>\n",
              "      <td>4</td>\n",
              "      <td>0</td>\n",
              "    </tr>\n",
              "  </tbody>\n",
              "</table>\n",
              "</div>"
            ],
            "text/plain": [
              "      irr  temp  generation  month  week  day  hour  minute  second\n",
              "420  0.01 -2.52        7.61      1     1    1     7       0       0\n",
              "421  0.01 -2.52        8.73      1     1    1     7       1       0\n",
              "422  0.01 -2.52        9.63      1     1    1     7       2       0\n",
              "423  0.01 -2.53       10.59      1     1    1     7       3       0\n",
              "424  0.01 -2.53       11.75      1     1    1     7       4       0"
            ]
          },
          "metadata": {
            "tags": []
          },
          "execution_count": 14
        }
      ]
    },
    {
      "metadata": {
        "id": "1ggep5AoQ4Uw",
        "colab_type": "code",
        "outputId": "d84c6ea4-2202-4b93-f43c-50bd55927903",
        "colab": {
          "base_uri": "https://localhost:8080/",
          "height": 288
        }
      },
      "cell_type": "code",
      "source": [
        "data_copy.describe()"
      ],
      "execution_count": 15,
      "outputs": [
        {
          "output_type": "execute_result",
          "data": {
            "text/html": [
              "<div>\n",
              "<style scoped>\n",
              "    .dataframe tbody tr th:only-of-type {\n",
              "        vertical-align: middle;\n",
              "    }\n",
              "\n",
              "    .dataframe tbody tr th {\n",
              "        vertical-align: top;\n",
              "    }\n",
              "\n",
              "    .dataframe thead th {\n",
              "        text-align: right;\n",
              "    }\n",
              "</style>\n",
              "<table border=\"1\" class=\"dataframe\">\n",
              "  <thead>\n",
              "    <tr style=\"text-align: right;\">\n",
              "      <th></th>\n",
              "      <th>irr</th>\n",
              "      <th>temp</th>\n",
              "      <th>generation</th>\n",
              "      <th>month</th>\n",
              "      <th>week</th>\n",
              "      <th>day</th>\n",
              "      <th>hour</th>\n",
              "      <th>minute</th>\n",
              "      <th>second</th>\n",
              "    </tr>\n",
              "  </thead>\n",
              "  <tbody>\n",
              "    <tr>\n",
              "      <th>count</th>\n",
              "      <td>252510.000000</td>\n",
              "      <td>252510.000000</td>\n",
              "      <td>252510.000000</td>\n",
              "      <td>252510.000000</td>\n",
              "      <td>252510.000000</td>\n",
              "      <td>252510.000000</td>\n",
              "      <td>252510.000000</td>\n",
              "      <td>252510.000000</td>\n",
              "      <td>252510.0</td>\n",
              "    </tr>\n",
              "    <tr>\n",
              "      <th>mean</th>\n",
              "      <td>0.326479</td>\n",
              "      <td>18.296871</td>\n",
              "      <td>451.122492</td>\n",
              "      <td>6.450513</td>\n",
              "      <td>26.672781</td>\n",
              "      <td>15.792135</td>\n",
              "      <td>11.196519</td>\n",
              "      <td>29.424692</td>\n",
              "      <td>0.0</td>\n",
              "    </tr>\n",
              "    <tr>\n",
              "      <th>std</th>\n",
              "      <td>0.276990</td>\n",
              "      <td>9.095591</td>\n",
              "      <td>369.206258</td>\n",
              "      <td>3.239404</td>\n",
              "      <td>14.135850</td>\n",
              "      <td>8.796408</td>\n",
              "      <td>3.467027</td>\n",
              "      <td>17.328342</td>\n",
              "      <td>0.0</td>\n",
              "    </tr>\n",
              "    <tr>\n",
              "      <th>min</th>\n",
              "      <td>0.010000</td>\n",
              "      <td>-8.070000</td>\n",
              "      <td>0.010000</td>\n",
              "      <td>1.000000</td>\n",
              "      <td>1.000000</td>\n",
              "      <td>1.000000</td>\n",
              "      <td>4.000000</td>\n",
              "      <td>0.000000</td>\n",
              "      <td>0.0</td>\n",
              "    </tr>\n",
              "    <tr>\n",
              "      <th>25%</th>\n",
              "      <td>0.080000</td>\n",
              "      <td>11.040000</td>\n",
              "      <td>118.730000</td>\n",
              "      <td>4.000000</td>\n",
              "      <td>15.000000</td>\n",
              "      <td>8.000000</td>\n",
              "      <td>8.000000</td>\n",
              "      <td>14.000000</td>\n",
              "      <td>0.0</td>\n",
              "    </tr>\n",
              "    <tr>\n",
              "      <th>50%</th>\n",
              "      <td>0.240000</td>\n",
              "      <td>19.390000</td>\n",
              "      <td>352.075000</td>\n",
              "      <td>6.000000</td>\n",
              "      <td>26.000000</td>\n",
              "      <td>16.000000</td>\n",
              "      <td>11.000000</td>\n",
              "      <td>29.000000</td>\n",
              "      <td>0.0</td>\n",
              "    </tr>\n",
              "    <tr>\n",
              "      <th>75%</th>\n",
              "      <td>0.540000</td>\n",
              "      <td>24.900000</td>\n",
              "      <td>761.910000</td>\n",
              "      <td>9.000000</td>\n",
              "      <td>38.000000</td>\n",
              "      <td>23.000000</td>\n",
              "      <td>14.000000</td>\n",
              "      <td>44.000000</td>\n",
              "      <td>0.0</td>\n",
              "    </tr>\n",
              "    <tr>\n",
              "      <th>max</th>\n",
              "      <td>1.280000</td>\n",
              "      <td>41.190000</td>\n",
              "      <td>1483.170000</td>\n",
              "      <td>12.000000</td>\n",
              "      <td>53.000000</td>\n",
              "      <td>31.000000</td>\n",
              "      <td>19.000000</td>\n",
              "      <td>59.000000</td>\n",
              "      <td>0.0</td>\n",
              "    </tr>\n",
              "  </tbody>\n",
              "</table>\n",
              "</div>"
            ],
            "text/plain": [
              "                 irr           temp     generation          month  \\\n",
              "count  252510.000000  252510.000000  252510.000000  252510.000000   \n",
              "mean        0.326479      18.296871     451.122492       6.450513   \n",
              "std         0.276990       9.095591     369.206258       3.239404   \n",
              "min         0.010000      -8.070000       0.010000       1.000000   \n",
              "25%         0.080000      11.040000     118.730000       4.000000   \n",
              "50%         0.240000      19.390000     352.075000       6.000000   \n",
              "75%         0.540000      24.900000     761.910000       9.000000   \n",
              "max         1.280000      41.190000    1483.170000      12.000000   \n",
              "\n",
              "                week            day           hour         minute    second  \n",
              "count  252510.000000  252510.000000  252510.000000  252510.000000  252510.0  \n",
              "mean       26.672781      15.792135      11.196519      29.424692       0.0  \n",
              "std        14.135850       8.796408       3.467027      17.328342       0.0  \n",
              "min         1.000000       1.000000       4.000000       0.000000       0.0  \n",
              "25%        15.000000       8.000000       8.000000      14.000000       0.0  \n",
              "50%        26.000000      16.000000      11.000000      29.000000       0.0  \n",
              "75%        38.000000      23.000000      14.000000      44.000000       0.0  \n",
              "max        53.000000      31.000000      19.000000      59.000000       0.0  "
            ]
          },
          "metadata": {
            "tags": []
          },
          "execution_count": 15
        }
      ]
    },
    {
      "metadata": {
        "id": "KPb1T3J3Q4U0",
        "colab_type": "code",
        "colab": {}
      },
      "cell_type": "code",
      "source": [
        "Y = data_copy[\"generation\"].astype(np.float)\n",
        "\n",
        "X = data_copy.drop('generation',axis=1).astype(np.float)"
      ],
      "execution_count": 0,
      "outputs": []
    },
    {
      "metadata": {
        "id": "DUg1FKLAAI-u",
        "colab_type": "text"
      },
      "cell_type": "markdown",
      "source": [
        "# visualize data"
      ]
    },
    {
      "metadata": {
        "id": "wd582cBAhddr",
        "colab_type": "code",
        "outputId": "123a118f-5be0-43f7-c41a-13c5d14d5e13",
        "colab": {
          "base_uri": "https://localhost:8080/",
          "height": 727
        }
      },
      "cell_type": "code",
      "source": [
        "# kernel density plot\n",
        "sns.distplot(Y,fit=norm);\n",
        "plt.ylabel =('Frequency')\n",
        "plt.title = ('SalePrice Distribution');\n",
        "#Get the fitted parameters usdata.drop('MEDV',axis=1)ed by the function\n",
        "(mu, sigma) = norm.fit(Y)\n",
        "#QQ plot\n",
        "fig = plt.figure()\n",
        "res = stats.probplot(Y, plot=plt)\n",
        "plt.show()\n",
        "print(\"skewness: %f\" % Y.skew())\n",
        "print(\"kurtosis: %f\" % Y.kurt())"
      ],
      "execution_count": 17,
      "outputs": [
        {
          "output_type": "display_data",
          "data": {
            "image/png": "[encoded data removed]",
            "text/plain": [
              "<matplotlib.figure.Figure at 0x7f8fdeae9240>"
            ]
          },
          "metadata": {
            "tags": []
          }
        },
        {
          "output_type": "display_data",
          "data": {
            "image/png": "[encoded data removed]",
            "text/plain": [
              "<matplotlib.figure.Figure at 0x7f8fff2964e0>"
            ]
          },
          "metadata": {
            "tags": []
          }
        },
        {
          "output_type": "stream",
          "text": [
            "skewness: 0.549233\n",
            "kurtosis: -0.985330\n"
          ],
          "name": "stdout"
        }
      ]
    },
    {
      "metadata": {
        "id": "VGOz7YQKQ4U_",
        "colab_type": "text"
      },
      "cell_type": "markdown",
      "source": [
        "## Linear-Regression"
      ]
    },
    {
      "metadata": {
        "id": "bNVbQfEkAaNE",
        "colab_type": "text"
      },
      "cell_type": "markdown",
      "source": [
        "### Using log transform\n",
        "\n",
        "\n"
      ]
    },
    {
      "metadata": {
        "id": "Ud2OI6G0q6tP",
        "colab_type": "code",
        "outputId": "5f763eb1-bb2d-4eaf-e6e8-d8bc830eed93",
        "colab": {
          "base_uri": "https://localhost:8080/",
          "height": 727
        }
      },
      "cell_type": "code",
      "source": [
        "Y = np.log1p(Y)\n",
        "# kernel density plot\n",
        "sns.distplot(Y,fit=norm);\n",
        "plt.ylabel =('Frequency')\n",
        "plt.title = ('SalePrice Distribution');\n",
        "#Get the fitted parameters usdata.drop('MEDV',axis=1)ed by the function\n",
        "(mu, sigma) = norm.fit(Y)\n",
        "#QQ plot\n",
        "fig = plt.figure()\n",
        "res = stats.probplot(Y, plot=plt)\n",
        "plt.show()\n",
        "print(\"skewness: %f\" % Y.skew())\n",
        "print(\"kurtosis: %f\" % Y.kurt())\n"
      ],
      "execution_count": 18,
      "outputs": [
        {
          "output_type": "display_data",
          "data": {
            "image/png": "[encoded data removed]",
            "text/plain": [
              "<matplotlib.figure.Figure at 0x7f8feba81048>"
            ]
          },
          "metadata": {
            "tags": []
          }
        },
        {
          "output_type": "display_data",
          "data": {
            "image/png": "[encoded data removed]",
            "text/plain": [
              "<matplotlib.figure.Figure at 0x7f8fdeb4d860>"
            ]
          },
          "metadata": {
            "tags": []
          }
        },
        {
          "output_type": "stream",
          "text": [
            "skewness: -0.927941\n",
            "kurtosis: 0.245403\n"
          ],
          "name": "stdout"
        }
      ]
    },
    {
      "metadata": {
        "id": "XKpLf-VJQ4VA",
        "colab_type": "code",
        "colab": {}
      },
      "cell_type": "code",
      "source": [
        "\n",
        "from sklearn.linear_model import LinearRegression\n"
      ],
      "execution_count": 0,
      "outputs": []
    },
    {
      "metadata": {
        "id": "Yaxlska8Q4U3",
        "colab_type": "code",
        "colab": {}
      },
      "cell_type": "code",
      "source": [
        "#test in a week of year\n",
        "X_test = X[:-242430] \n",
        "X_train = X[-242430:]\n",
        "y_test = Y[:-242430]\n",
        "y_train = Y[-242430:]\n"
      ],
      "execution_count": 0,
      "outputs": []
    },
    {
      "metadata": {
        "id": "pNiRHnaOm50-",
        "colab_type": "code",
        "outputId": "11a1a556-2ac2-4727-9698-0ecc1b8fa54d",
        "colab": {
          "base_uri": "https://localhost:8080/",
          "height": 54
        }
      },
      "cell_type": "code",
      "source": [
        "\n",
        "\n",
        "\n",
        "model = LinearRegression()\n",
        "model.fit(X_train, y_train)\n",
        "print(\"score of model in train data is : {}\".format(model.score(X_train, y_train)))\n",
        "print(\"score of model in test data is : {}\".format(model.score(X_test,y_test)))\n",
        "\n"
      ],
      "execution_count": 21,
      "outputs": [
        {
          "output_type": "stream",
          "text": [
            "score of model in train data is : 0.7074077668770787\n",
            "score of model in test data is : 0.7339343654431407\n"
          ],
          "name": "stdout"
        }
      ]
    },
    {
      "metadata": {
        "id": "wgkTkXU27YHr",
        "colab_type": "text"
      },
      "cell_type": "markdown",
      "source": [
        "### MAPE"
      ]
    },
    {
      "metadata": {
        "id": "xBZGeYblviZg",
        "colab_type": "code",
        "colab": {}
      },
      "cell_type": "code",
      "source": [
        "import numpy as np\n",
        "\n",
        "def mean_absolute_percentage_error(y_true, y_pred): \n",
        "    y_true, y_pred = np.array(y_true), np.array(y_pred)\n",
        "    return np.mean(np.abs((y_true - y_pred) / y_true)) * 100"
      ],
      "execution_count": 0,
      "outputs": []
    },
    {
      "metadata": {
        "id": "J21nTqX-vpd0",
        "colab_type": "code",
        "outputId": "78bf38d2-b0eb-434d-f3aa-3ba440f454c0",
        "colab": {
          "base_uri": "https://localhost:8080/",
          "height": 35
        }
      },
      "cell_type": "code",
      "source": [
        "predict = model.predict(X_test)\n",
        "a = mean_absolute_percentage_error(y_test, predict)\n",
        "print(\"MAPE of model is : \",a)"
      ],
      "execution_count": 23,
      "outputs": [
        {
          "output_type": "stream",
          "text": [
            "MAPE of model is :  10.475369157692755\n"
          ],
          "name": "stdout"
        }
      ]
    },
    {
      "metadata": {
        "id": "14zbHQMtQ4VF",
        "colab_type": "text"
      },
      "cell_type": "markdown",
      "source": [
        ""
      ]
    },
    {
      "metadata": {
        "id": "COAd3Zm3nrk6",
        "colab_type": "code",
        "colab": {}
      },
      "cell_type": "code",
      "source": [
        ""
      ],
      "execution_count": 0,
      "outputs": []
    },
    {
      "metadata": {
        "id": "m99cQFauFK8p",
        "colab_type": "code",
        "colab": {}
      },
      "cell_type": "code",
      "source": [
        "df = pd.DataFrame()\n",
        "\n",
        "df['Y_predict'] = predict\n",
        "df['Y_test'] = y_test.tolist()"
      ],
      "execution_count": 0,
      "outputs": []
    },
    {
      "metadata": {
        "id": "Aw9lyKxAn-E2",
        "colab_type": "code",
        "colab": {
          "base_uri": "https://localhost:8080/",
          "height": 198
        },
        "outputId": "16de78f5-5391-46cb-b72d-aa98099ede0d"
      },
      "cell_type": "code",
      "source": [
        "df.head()"
      ],
      "execution_count": 45,
      "outputs": [
        {
          "output_type": "execute_result",
          "data": {
            "text/html": [
              "<div>\n",
              "<style scoped>\n",
              "    .dataframe tbody tr th:only-of-type {\n",
              "        vertical-align: middle;\n",
              "    }\n",
              "\n",
              "    .dataframe tbody tr th {\n",
              "        vertical-align: top;\n",
              "    }\n",
              "\n",
              "    .dataframe thead th {\n",
              "        text-align: right;\n",
              "    }\n",
              "</style>\n",
              "<table border=\"1\" class=\"dataframe\">\n",
              "  <thead>\n",
              "    <tr style=\"text-align: right;\">\n",
              "      <th></th>\n",
              "      <th>Y_predict</th>\n",
              "      <th>Y_test</th>\n",
              "    </tr>\n",
              "  </thead>\n",
              "  <tbody>\n",
              "    <tr>\n",
              "      <th>0</th>\n",
              "      <td>4.332689</td>\n",
              "      <td>2.152924</td>\n",
              "    </tr>\n",
              "    <tr>\n",
              "      <th>1</th>\n",
              "      <td>4.332907</td>\n",
              "      <td>2.275214</td>\n",
              "    </tr>\n",
              "    <tr>\n",
              "      <th>2</th>\n",
              "      <td>4.333126</td>\n",
              "      <td>2.363680</td>\n",
              "    </tr>\n",
              "    <tr>\n",
              "      <th>3</th>\n",
              "      <td>4.333375</td>\n",
              "      <td>2.450143</td>\n",
              "    </tr>\n",
              "    <tr>\n",
              "      <th>4</th>\n",
              "      <td>4.333593</td>\n",
              "      <td>2.545531</td>\n",
              "    </tr>\n",
              "  </tbody>\n",
              "</table>\n",
              "</div>"
            ],
            "text/plain": [
              "   Y_predict    Y_test\n",
              "0   4.332689  2.152924\n",
              "1   4.332907  2.275214\n",
              "2   4.333126  2.363680\n",
              "3   4.333375  2.450143\n",
              "4   4.333593  2.545531"
            ]
          },
          "metadata": {
            "tags": []
          },
          "execution_count": 45
        }
      ]
    },
    {
      "metadata": {
        "id": "c5cS91kMjFRA",
        "colab_type": "code",
        "colab": {
          "base_uri": "https://localhost:8080/",
          "height": 284
        },
        "outputId": "9dc2bc06-64dd-44ca-f717-2a028f7ecc43"
      },
      "cell_type": "code",
      "source": [
        "df.plot()"
      ],
      "execution_count": 43,
      "outputs": [
        {
          "output_type": "execute_result",
          "data": {
            "text/plain": [
              "<matplotlib.axes._subplots.AxesSubplot at 0x7f8fe3006518>"
            ]
          },
          "metadata": {
            "tags": []
          },
          "execution_count": 43
        },
        {
          "output_type": "display_data",
          "data": {
            "image/png": "[encoded data removed]",
            "text/plain": [
              "<matplotlib.figure.Figure at 0x7f8fe307b8d0>"
            ]
          },
          "metadata": {
            "tags": []
          }
        }
      ]
    },
    {
      "metadata": {
        "id": "BwfFP0OlpYcA",
        "colab_type": "text"
      },
      "cell_type": "markdown",
      "source": [
        "# Random Forest"
      ]
    },
    {
      "metadata": {
        "id": "lGNYod02pcC4",
        "colab_type": "code",
        "colab": {}
      },
      "cell_type": "code",
      "source": [
        "# Import the model we are using\n",
        "#from sklearn.ensemble import RandomForestRegressor\n",
        "# Instantiate model with 1000 decision trees\n",
        "#f = RandomForestRegressor(n_estimators = 1000, random_state = 42)\n",
        "# Train the model on training data\n",
        "#rf.fit(X_train[-121215:], y_train[-121215:])"
      ],
      "execution_count": 0,
      "outputs": []
    },
    {
      "metadata": {
        "id": "aBg4eYS4qftc",
        "colab_type": "code",
        "colab": {}
      },
      "cell_type": "code",
      "source": [
        ""
      ],
      "execution_count": 0,
      "outputs": []
    }
  ]
}